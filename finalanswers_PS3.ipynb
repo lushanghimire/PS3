{
 "cells": [
  {
   "cell_type": "code",
   "execution_count": null,
   "id": "5282cd9c-ecbb-41f2-ae83-8b626dc1936e",
   "metadata": {},
   "outputs": [],
   "source": []
  },
  {
   "cell_type": "code",
   "execution_count": null,
   "id": "485294e2-f519-4c9b-bc44-597a0688c964",
   "metadata": {},
   "outputs": [],
   "source": []
  },
  {
   "cell_type": "code",
   "execution_count": 1,
   "id": "1de84afb-01a1-4655-b6b6-131a0d1911e9",
   "metadata": {},
   "outputs": [
    {
     "name": "stdout",
     "output_type": "stream",
     "text": [
      " Max water level was 6.647 and occured on 2018-10-10 18:06\n",
      " Min water level was 1.621 and occured on 2018-10-11 15:36\n",
      "The average water level after keeping 0 in the missing value is: 2.9782096551724146\n"
     ]
    }
   ],
   "source": [
    "##############Problem set 3: Question no. 1 and modified later for Question no. 2######\n",
    "\n",
    "file= open(\"/blue/bsc4452/lghimire/Jupyter_content/data/CO_OPS.csv\") ##Reading the file \n",
    "next(file)\n",
    "max_water = 0                     ##to start searching assuming max water level as 0\n",
    "max_date = 0                      ##to start searching assuming max water level as 0\n",
    "x=0                               ##to assign a variable x as 0 so I can compare any missing values as less than 0\n",
    "x=str(x)                          ##converting integer x as string as water level column is also a string type and this can help us compare....\n",
    "min_water= 6.647                  ##I used this value because this value was reported to be the highest water level from question 1 (which I am editing now for question 2) and \n",
    "                                         ####......this will help me choose all values smaller than this value\n",
    "min_date = 0\n",
    "total = 0                         ##assigning a variable total so as to assign the summed water level values into this variable\n",
    "count = 0\n",
    "\n",
    "\n",
    "max_water=str(max_water)          ##converting integer x as string as water level column is also a string type and this can help us compare\n",
    "min_water=str(min_water)          ##converting integer x as string as water level column is also a string type and this can help us compare\n",
    "\n",
    "for line in file:\n",
    "    column= line.split(\",\")       #### splitting the columns based on , as it is a csv file\n",
    "    water_level= column[1]        ##Defining column for water level\n",
    "    datetime= column[0]           ###Defining column for date and time\n",
    "\n",
    "    ######For maxm water level\n",
    "    if water_level > max_water: \n",
    "        max_water=water_level\n",
    "        max_date= datetime\n",
    "\n",
    "     ###For minimum water level\n",
    "    if  water_level >= x and water_level < min_water:  ## water level is compared with x whose value is 0 because we don't want this code to return empty cell as the minimum value\n",
    "        min_water= water_level\n",
    "        min_date= datetime   \n",
    "        \n",
    "        ###For average water level\n",
    "        \n",
    "    if water_level< x: water_level = x                 ###had to check water level is smaller than 0 (i.e. x) because missing cell in water level column did not let me change.. \n",
    "                                                             ###....it from string type to float and perform additions. It was only concatenating\n",
    "    total= total + float(water_level)\n",
    "    count= count + 1\n",
    "\n",
    "\n",
    "\n",
    "print (\" Max water level was\", max_water,\"and occured on\", max_date) ###No indent here as we only want one output statement and not with every iterations\n",
    "print (\" Min water level was\", min_water,\"and occured on\", min_date) ###No indent here as we only want one output statement and not with every iterations\n",
    "print(\"The average water level after keeping 0 in the missing value is:\", total/count)"
   ]
  },
  {
   "cell_type": "code",
   "execution_count": 2,
   "id": "09f4f3e6-9c28-4888-9837-579b47f00cc5",
   "metadata": {},
   "outputs": [
    {
     "name": "stdout",
     "output_type": "stream",
     "text": [
      "The maximum rise in water level was:  0.6400000000000006 observed on 2018-10-10 17:42\n"
     ]
    }
   ],
   "source": [
    "###For question 3######\n",
    "file= open(\"/blue/bsc4452/lghimire/Jupyter_content/data/CO_OPS.csv\")\n",
    "PL= 2.421 ##Assigning first water level value so as to get the difference as 0 and help look up other positive rise values\n",
    "next(file)\n",
    "difference=0   #Assigning difference as the variable to use further in the loop\n",
    "date = 0       ###Assigning date variable to use further in the loop\n",
    "\n",
    "for line in file:\n",
    "    column= line.split(\",\")  #### splitting the columns based on , as it is a csv file\n",
    "    water_level= column[1]    ###Defining column for water level\n",
    "    datetime= column[0]       ###Defining column for date and time\n",
    "    \n",
    "    if water_level< x: water_level = PL  ########Assigning previous water level to the blank entry\n",
    "    rise= float(water_level)-float(PL)     ######Converting both values to float to facilitate subtraction\n",
    "    PL=water_level\n",
    "    \n",
    "    if rise>difference:   ###########Choosing only positive values of rise because as per question fastest rise means there has to be positive difference as second obsv should be greater than first\n",
    "        difference= rise     ########Replacing the difference with the highest value of rise in the \n",
    "        date=datetime\n",
    "        \n",
    "print(\"The maximum rise in water level was: \", difference,\"observed on\", date)\n"
   ]
  },
  {
   "cell_type": "code",
   "execution_count": 4,
   "id": "6aad8ec4-b4b5-4868-9ebf-1e23b1a959cb",
   "metadata": {},
   "outputs": [
    {
     "name": "stdout",
     "output_type": "stream",
     "text": [
      "Warning: High rise in water level\n",
      "Warning: High rise in water level\n",
      "High water level recorded\n",
      "High water level recorded\n",
      "High water level recorded\n",
      "High water level recorded\n",
      "High water level recorded\n",
      "High water level recorded\n",
      "No reading recorded\n",
      "High water level recorded\n",
      "High water level recorded\n",
      "High water level recorded\n",
      "High water level recorded\n",
      "High water level recorded\n",
      "High water level recorded\n",
      "High water level recorded\n",
      "Warning: High rise in water level\n",
      "Warning: High rise in water level\n",
      "Warning: High rise in water level\n"
     ]
    }
   ],
   "source": [
    "###For question 4######\n",
    "file= open(\"/blue/bsc4452/lghimire/Jupyter_content/data/CO_OPS.csv\")\n",
    "PL= 2.421 ##Assigning first water level value so as to get the difference as 0 and help look up other positive rise values\n",
    "next(file)\n",
    "x=0\n",
    "x=str(x)\n",
    "\n",
    "for line in file:\n",
    "    column= line.split(\",\")  #### splitting the columns based on , as it is a csv file\n",
    "    water_level= column[1]    ###Defining column for water level\n",
    "    datetime= column[0]       ###Defining column for date and time\n",
    "    \n",
    "    if water_level< x:\n",
    "        print(\"No reading recorded\") \n",
    "        water_level=x           ##With this command, missing cell will get 0 value and the if statement code will stop this loop. This way we can use float(water level) command    \n",
    "    \n",
    "    elif float(water_level)>5:\n",
    "        print(\"High water level recorded\")\n",
    "            \n",
    "    elif (float(water_level)-float(PL) >= 0.25):     ######Converting both values to float to facilitate subtraction\n",
    "        print(\"Warning: High rise in water level\")\n",
    "   \n",
    "    else:\n",
    "        PL=water_level    ### If none of those conditions, I want to assign the water level as previous level and then check again for any rise in third if statement\n",
    "        "
   ]
  }
 ],
 "metadata": {
  "kernelspec": {
   "display_name": "UFRC Python-3.10",
   "language": "python",
   "name": "python3-3.10-ufrc"
  },
  "language_info": {
   "codemirror_mode": {
    "name": "ipython",
    "version": 3
   },
   "file_extension": ".py",
   "mimetype": "text/x-python",
   "name": "python",
   "nbconvert_exporter": "python",
   "pygments_lexer": "ipython3",
   "version": "3.10.5"
  }
 },
 "nbformat": 4,
 "nbformat_minor": 5
}
